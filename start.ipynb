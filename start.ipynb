{
 "cells": [
  {
   "cell_type": "code",
   "execution_count": null,
   "id": "6f188c53-6fbe-4b06-809a-39013f65fb60",
   "metadata": {},
   "outputs": [],
   "source": [
    "import torch \n",
    "from transformers import AutoModelForSpeechSeq2Seq, AutoProcessor, pipeline\n"
   ]
  },
  {
   "cell_type": "markdown",
   "id": "ff208b40",
   "metadata": {},
   "source": [
    "Loadding the multilingual speech recognition model Multilingual Whisper-v3\n"
   ]
  },
  {
   "cell_type": "code",
   "execution_count": null,
   "id": "077061f9-d0cc-4b20-8fd2-422526fb9d00",
   "metadata": {},
   "outputs": [
    {
     "name": "stderr",
     "output_type": "stream",
     "text": [
      "Special tokens have been added in the vocabulary, make sure the associated word embeddings are fine-tuned or trained.\n"
     ]
    }
   ],
   "source": [
    "device='cuda:0' if torch.cuda.is_available() else 'cpu'\n",
    "torch_dtype=torch.float16 if torch.cuda.is_available() else torch.float32\n",
    "\n",
    "model_id_whisper = \"openai/whisper-large-v3\"\n",
    "\n",
    "model_whisper = AutoModelForSpeechSeq2Seq.from_pretrained(\n",
    "    model_id_whisper, torch_dtype=torch_dtype, low_cpu_mem_usage=True, use_safetensors=True\n",
    ")\n",
    "model_whisper.to(device)\n",
    "\n",
    "processor_whisper = AutoProcessor.from_pretrained(model_id_whisper)\n",
    "\n",
    "pipe = pipeline(\n",
    "    \"automatic-speech-recognition\",\n",
    "    model=model_whisper,\n",
    "    tokenizer=processor_whisper.tokenizer,\n",
    "    feature_extractor=processor_whisper.feature_extractor,\n",
    "    max_new_tokens=128,\n",
    "    chunk_length_s=30,\n",
    "    batch_size=16,\n",
    "    return_timestamps=True,\n",
    "    torch_dtype=torch_dtype,\n",
    "    device=device,\n",
    ")\n"
   ]
  },
  {
   "cell_type": "markdown",
   "id": "5dc92440",
   "metadata": {},
   "source": [
    "Input file "
   ]
  },
  {
   "cell_type": "code",
   "execution_count": null,
   "id": "f80de826-b1a0-40a6-8515-8f4a47e86267",
   "metadata": {},
   "outputs": [
    {
     "name": "stdout",
     "output_type": "stream",
     "text": [
      "MoviePy - Writing audio in audio.mp3\n"
     ]
    },
    {
     "name": "stderr",
     "output_type": "stream",
     "text": [
      "                                                                                                                       "
     ]
    },
    {
     "name": "stdout",
     "output_type": "stream",
     "text": [
      "MoviePy - Done.\n"
     ]
    },
    {
     "name": "stderr",
     "output_type": "stream",
     "text": [
      "\r"
     ]
    }
   ],
   "source": [
    "# convert the input video to audio\n",
    "import moviepy.editor as me\n",
    "video=me.VideoFileClip(r\"E:\\TensorGo Assigment\\test_video\\tamil_audio.mp4\")\n",
    "audio=video.audio\n",
    "audio.write_audiofile('audio.mp3')"
   ]
  },
  {
   "cell_type": "code",
   "execution_count": 5,
   "id": "ca493801-130b-4f5e-a686-cc05d3d2d69d",
   "metadata": {},
   "outputs": [],
   "source": [
    "#cant load the file in the model so slpiting them into paths and array\n",
    "import librosa\n",
    "import numpy as np\n",
    "\n",
    "file_path = 'audio.mp3'\n",
    "audio_data, sampling_rate = librosa.load(file_path, sr=16000)  # sr=None to preserve original sampling rate\n",
    "\n",
    "audio_info = {\n",
    "    'path': file_path,\n",
    "    'array': audio_data,\n",
    "    'sampling_rate': sampling_rate\n",
    "}\n",
    "\n"
   ]
  },
  {
   "cell_type": "markdown",
   "id": "120b014e",
   "metadata": {},
   "source": [
    "Extracting text "
   ]
  },
  {
   "cell_type": "code",
   "execution_count": null,
   "id": "f9f26a04-7b74-4b1d-84d5-f9a8043b5625",
   "metadata": {},
   "outputs": [
    {
     "name": "stdout",
     "output_type": "stream",
     "text": [
      " There should be a goal in life There should be a goal in life You can achieve anything There should be a goal in life for that The book is to search for the knowledge that is between the goals There should be a good habit You should not be afraid of problems You should be a part of the problem There should be good people in life If you have them, you will definitely succeed\n"
     ]
    }
   ],
   "source": [
    "\n",
    "result = pipe(audio_info,generate_kwargs={\"task\": \"translate\"})\n",
    "print(result[\"text\"])\n",
    "text=result[\"text\"]"
   ]
  },
  {
   "cell_type": "markdown",
   "id": "9c2202ae",
   "metadata": {},
   "source": [
    "Embedding the data"
   ]
  },
  {
   "cell_type": "code",
   "execution_count": 42,
   "id": "4dbc7ecb-78b9-488a-ac11-f083ad1e227a",
   "metadata": {},
   "outputs": [],
   "source": [
    "#rag implementaion \n",
    "\n",
    "from nltk.tokenize import sent_tokenize"
   ]
  },
  {
   "cell_type": "code",
   "execution_count": 46,
   "id": "f666fc3d-1d9f-44ac-91b5-16421935c263",
   "metadata": {},
   "outputs": [],
   "source": [
    "sentences_of_text=sent_tokenize(text)"
   ]
  },
  {
   "cell_type": "code",
   "execution_count": 49,
   "id": "85237613-8415-43eb-9bb4-d1f546916949",
   "metadata": {},
   "outputs": [],
   "source": [
    "num_sentence_chunk_size = 10 \n",
    "def split_list(input_list ,slice_size) :\n",
    "    return [input_list[i:i + slice_size] for i in range(0, len(input_list), slice_size)]\n",
    "sentence_chunks = split_list(sentences_of_text,num_sentence_chunk_size)\n",
    "num_chunks = len(sentence_chunks)"
   ]
  },
  {
   "cell_type": "code",
   "execution_count": 50,
   "id": "2d55c2c8-952d-43d2-a629-9c0dc4a1ef9a",
   "metadata": {},
   "outputs": [
    {
     "data": {
      "text/plain": [
       "[[' The British came to India for trading.',\n",
       "  \"They made their offices and forts in various parts of India But eventually the British East India Company became the major force in India the company's troops led by Robert Clive defeated Siraj Udulla the ruler of Bengal in 1757 in the battle of policy and that was the beginning of British rule known as British Raj in India.\",\n",
       "  'Under the British rule, the Indians were deprived of basic needs, socially and economically and legally discriminated against, misbehaved, mistreated and tortured.',\n",
       "  \"India's first war of independence was a revolt of Indian soldiers and rulers against British rule.\",\n",
       "  'The rebellion by Indian troops of the British Raj started in May 1857 and continued until December 1858.',\n",
       "  \"During this period of India's first war of independence, many social and religious leaders worked to inspire the Indian society.\",\n",
       "  'They included men like Swami Vivekananda, Ramkrishnadeva, Sri Aurobindo, Subramanian Bharti, Bumkin Chandra Chatterjee, Sir Syed Ahmed Khan, Robin Ronath Tagore and Dadabhai Navroji.',\n",
       "  'They spread the message of self-confidence, removing social evils and making India free from the domination of foreign power.',\n",
       "  'During the First World War, Indians gave support to the United Kingdom.',\n",
       "  'About 1.3 million Indian soldiers went to many parts of Europe, Africa, and the Middle East to fight.'],\n",
       " ['Many Indians, including the princes and rich people of India, contributed money and materials to the war funds of the United Kingdom, anticipating change of dominion status and home rule in return.',\n",
       "  'The World War I ended in 1919 and Britain won with the help of Indian soldiers.',\n",
       "  'India was denied its promised reward.',\n",
       "  'Many Indian soldiers died in foreign lands.',\n",
       "  'In India, flu spread like an epidemic killing many people.',\n",
       "  'The tax rates increased in India and prices also increased.',\n",
       "  'As a result, the Indians became restless.',\n",
       "  'Gandhiji returned to India from South Africa in 1915.',\n",
       "  'Under the leadership of Gandhiji, Indians began to use a different method of gate freedom over the next few years.',\n",
       "  'In December 1929, the Indian National Congress Party agreed to start a movement for complete independence from British rule.'],\n",
       " [\"Under Gandhiji's leadership, many movements like Satyagraha Dandimarch took place.\",\n",
       "  'Many Indians did not believe in such peaceful protests, claiming that the British would not give independence to Indians so easily.',\n",
       "  'They believed an armed struggle was necessary to oust the British from India.',\n",
       "  'Many revolutionaries and leaders emerged from time to time.',\n",
       "  'Bhagat Singh, Kudirambosu, Vinoy Badal Vinesh, Master Dashurja Sen, Netaji Subhash Chandra Gopal were a few of them.',\n",
       "  'During the Second World War, the rulers of the British Raj declared India to be a party to the war without discussing the matter with Indians and their leaders.',\n",
       "  \"This created a lot of dissatisfaction among Indians and two big movements for India's independence took shape.\",\n",
       "  'The first was the Indian National Army of Subhash Chandra Bose.',\n",
       "  'The second was the Quit India Movement of Mahatma Gandhi.',\n",
       "  'Both of these leaders and the movements under their leadership shook the British Empire.'],\n",
       " ['As a result of many movements in small and large scale of several years, sacrifice of the heroes of Mother India finally, finally, on midnight of 15 15 August 1947, Britain handed India its formal political independence.',\n",
       "  'India finally owned its most coveted freedom, but at the price of losing a part of it.',\n",
       "  \"Viceroy Lord Mountbatten's divide and rule policy broke our country into two pieces and gave birth to two nations, the Union of India and the Islamic Pakistan.\",\n",
       "  'On the day of 75th Independence of India, we all Indians desire for a highly developed, transparent, corruption-free country.',\n",
       "  \"We also promise to contribute to India's social, economical, spiritual, technological development to build this nation into a superpower.\",\n",
       "  'Happy Independence Day to you all.',\n",
       "  'Jai Hind!']]"
      ]
     },
     "execution_count": 50,
     "metadata": {},
     "output_type": "execute_result"
    }
   ],
   "source": [
    "sentence_chunks"
   ]
  },
  {
   "cell_type": "code",
   "execution_count": 53,
   "id": "18065e78-c3a2-4313-a54e-0581b42be5b9",
   "metadata": {},
   "outputs": [
    {
     "data": {
      "text/plain": [
       "4"
      ]
     },
     "execution_count": 53,
     "metadata": {},
     "output_type": "execute_result"
    }
   ],
   "source": [
    "chunks = []\n",
    "import re\n",
    "for sentence_chunk in sentence_chunks:\n",
    "    chunk_dict = {}\n",
    "    joined_sentence_chunk = \"\".join(sentence_chunk).replace(\"  \", \" \").strip()\n",
    "    joined_sentence_chunk = re.sub(r'\\.([A-Z])', r'. \\1', joined_sentence_chunk) \n",
    "    chunk_dict[\"sentence_chunk\"] = joined_sentence_chunk\n",
    "    chunk_dict[\"chunk_char_count\"] = len(joined_sentence_chunk)\n",
    "    chunk_dict[\"chunk_word_count\"] = len([word for word in joined_sentence_chunk.split(\" \")])\n",
    "    chunk_dict[\"chunk_token_count\"] = len(joined_sentence_chunk) / 4 \n",
    "    chunks.append(chunk_dict)\n",
    "len(chunks)"
   ]
  },
  {
   "cell_type": "code",
   "execution_count": 54,
   "id": "4ea9c400-59da-4f8b-95ff-3a8b6784a32e",
   "metadata": {},
   "outputs": [
    {
     "data": {
      "text/plain": [
       "[{'sentence_chunk': \"The British came to India for trading. They made their offices and forts in various parts of India But eventually the British East India Company became the major force in India the company's troops led by Robert Clive defeated Siraj Udulla the ruler of Bengal in 1757 in the battle of policy and that was the beginning of British rule known as British Raj in India. Under the British rule, the Indians were deprived of basic needs, socially and economically and legally discriminated against, misbehaved, mistreated and tortured. India's first war of independence was a revolt of Indian soldiers and rulers against British rule. The rebellion by Indian troops of the British Raj started in May 1857 and continued until December 1858. During this period of India's first war of independence, many social and religious leaders worked to inspire the Indian society. They included men like Swami Vivekananda, Ramkrishnadeva, Sri Aurobindo, Subramanian Bharti, Bumkin Chandra Chatterjee, Sir Syed Ahmed Khan, Robin Ronath Tagore and Dadabhai Navroji. They spread the message of self-confidence, removing social evils and making India free from the domination of foreign power. During the First World War, Indians gave support to the United Kingdom. About 1.3 million Indian soldiers went to many parts of Europe, Africa, and the Middle East to fight.\",\n",
       "  'chunk_char_count': 1345,\n",
       "  'chunk_word_count': 215,\n",
       "  'chunk_token_count': 336.25},\n",
       " {'sentence_chunk': 'Many Indians, including the princes and rich people of India, contributed money and materials to the war funds of the United Kingdom, anticipating change of dominion status and home rule in return. The World War I ended in 1919 and Britain won with the help of Indian soldiers. India was denied its promised reward. Many Indian soldiers died in foreign lands. In India, flu spread like an epidemic killing many people. The tax rates increased in India and prices also increased. As a result, the Indians became restless. Gandhiji returned to India from South Africa in 1915. Under the leadership of Gandhiji, Indians began to use a different method of gate freedom over the next few years. In December 1929, the Indian National Congress Party agreed to start a movement for complete independence from British rule.',\n",
       "  'chunk_char_count': 814,\n",
       "  'chunk_word_count': 136,\n",
       "  'chunk_token_count': 203.5},\n",
       " {'sentence_chunk': \"Under Gandhiji's leadership, many movements like Satyagraha Dandimarch took place. Many Indians did not believe in such peaceful protests, claiming that the British would not give independence to Indians so easily. They believed an armed struggle was necessary to oust the British from India. Many revolutionaries and leaders emerged from time to time. Bhagat Singh, Kudirambosu, Vinoy Badal Vinesh, Master Dashurja Sen, Netaji Subhash Chandra Gopal were a few of them. During the Second World War, the rulers of the British Raj declared India to be a party to the war without discussing the matter with Indians and their leaders. This created a lot of dissatisfaction among Indians and two big movements for India's independence took shape. The first was the Indian National Army of Subhash Chandra Bose. The second was the Quit India Movement of Mahatma Gandhi. Both of these leaders and the movements under their leadership shook the British Empire.\",\n",
       "  'chunk_char_count': 952,\n",
       "  'chunk_word_count': 152,\n",
       "  'chunk_token_count': 238.0},\n",
       " {'sentence_chunk': \"As a result of many movements in small and large scale of several years, sacrifice of the heroes of Mother India finally, finally, on midnight of 15 15 August 1947, Britain handed India its formal political independence. India finally owned its most coveted freedom, but at the price of losing a part of it. Viceroy Lord Mountbatten's divide and rule policy broke our country into two pieces and gave birth to two nations, the Union of India and the Islamic Pakistan. On the day of 75th Independence of India, we all Indians desire for a highly developed, transparent, corruption-free country. We also promise to contribute to India's social, economical, spiritual, technological development to build this nation into a superpower. Happy Independence Day to you all. Jai Hind!\",\n",
       "  'chunk_char_count': 776,\n",
       "  'chunk_word_count': 127,\n",
       "  'chunk_token_count': 194.0}]"
      ]
     },
     "execution_count": 54,
     "metadata": {},
     "output_type": "execute_result"
    }
   ],
   "source": [
    "chunks"
   ]
  },
  {
   "cell_type": "code",
   "execution_count": 56,
   "id": "4198194a-a3a2-4b42-8b8c-40e712b6e42e",
   "metadata": {},
   "outputs": [
    {
     "data": {
      "text/html": [
       "<div>\n",
       "<style scoped>\n",
       "    .dataframe tbody tr th:only-of-type {\n",
       "        vertical-align: middle;\n",
       "    }\n",
       "\n",
       "    .dataframe tbody tr th {\n",
       "        vertical-align: top;\n",
       "    }\n",
       "\n",
       "    .dataframe thead th {\n",
       "        text-align: right;\n",
       "    }\n",
       "</style>\n",
       "<table border=\"1\" class=\"dataframe\">\n",
       "  <thead>\n",
       "    <tr style=\"text-align: right;\">\n",
       "      <th></th>\n",
       "      <th>chunk_char_count</th>\n",
       "      <th>chunk_word_count</th>\n",
       "      <th>chunk_token_count</th>\n",
       "    </tr>\n",
       "  </thead>\n",
       "  <tbody>\n",
       "    <tr>\n",
       "      <th>count</th>\n",
       "      <td>4.00</td>\n",
       "      <td>4.00</td>\n",
       "      <td>4.00</td>\n",
       "    </tr>\n",
       "    <tr>\n",
       "      <th>mean</th>\n",
       "      <td>971.75</td>\n",
       "      <td>157.50</td>\n",
       "      <td>242.94</td>\n",
       "    </tr>\n",
       "    <tr>\n",
       "      <th>std</th>\n",
       "      <td>260.07</td>\n",
       "      <td>39.70</td>\n",
       "      <td>65.02</td>\n",
       "    </tr>\n",
       "    <tr>\n",
       "      <th>min</th>\n",
       "      <td>776.00</td>\n",
       "      <td>127.00</td>\n",
       "      <td>194.00</td>\n",
       "    </tr>\n",
       "    <tr>\n",
       "      <th>25%</th>\n",
       "      <td>804.50</td>\n",
       "      <td>133.75</td>\n",
       "      <td>201.12</td>\n",
       "    </tr>\n",
       "    <tr>\n",
       "      <th>50%</th>\n",
       "      <td>883.00</td>\n",
       "      <td>144.00</td>\n",
       "      <td>220.75</td>\n",
       "    </tr>\n",
       "    <tr>\n",
       "      <th>75%</th>\n",
       "      <td>1050.25</td>\n",
       "      <td>167.75</td>\n",
       "      <td>262.56</td>\n",
       "    </tr>\n",
       "    <tr>\n",
       "      <th>max</th>\n",
       "      <td>1345.00</td>\n",
       "      <td>215.00</td>\n",
       "      <td>336.25</td>\n",
       "    </tr>\n",
       "  </tbody>\n",
       "</table>\n",
       "</div>"
      ],
      "text/plain": [
       "       chunk_char_count  chunk_word_count  chunk_token_count\n",
       "count              4.00              4.00               4.00\n",
       "mean             971.75            157.50             242.94\n",
       "std              260.07             39.70              65.02\n",
       "min              776.00            127.00             194.00\n",
       "25%              804.50            133.75             201.12\n",
       "50%              883.00            144.00             220.75\n",
       "75%             1050.25            167.75             262.56\n",
       "max             1345.00            215.00             336.25"
      ]
     },
     "execution_count": 56,
     "metadata": {},
     "output_type": "execute_result"
    }
   ],
   "source": [
    "import pandas as pd\n",
    "df = pd.DataFrame(chunks)\n",
    "df.describe().round(2)"
   ]
  },
  {
   "cell_type": "code",
   "execution_count": 59,
   "id": "1cd662a3-5927-4c1d-bf61-3ee3137d832c",
   "metadata": {},
   "outputs": [
    {
     "data": {
      "text/plain": [
       "[{'sentence_chunk': \"The British came to India for trading. They made their offices and forts in various parts of India But eventually the British East India Company became the major force in India the company's troops led by Robert Clive defeated Siraj Udulla the ruler of Bengal in 1757 in the battle of policy and that was the beginning of British rule known as British Raj in India. Under the British rule, the Indians were deprived of basic needs, socially and economically and legally discriminated against, misbehaved, mistreated and tortured. India's first war of independence was a revolt of Indian soldiers and rulers against British rule. The rebellion by Indian troops of the British Raj started in May 1857 and continued until December 1858. During this period of India's first war of independence, many social and religious leaders worked to inspire the Indian society. They included men like Swami Vivekananda, Ramkrishnadeva, Sri Aurobindo, Subramanian Bharti, Bumkin Chandra Chatterjee, Sir Syed Ahmed Khan, Robin Ronath Tagore and Dadabhai Navroji. They spread the message of self-confidence, removing social evils and making India free from the domination of foreign power. During the First World War, Indians gave support to the United Kingdom. About 1.3 million Indian soldiers went to many parts of Europe, Africa, and the Middle East to fight.\",\n",
       "  'chunk_char_count': 1345,\n",
       "  'chunk_word_count': 215,\n",
       "  'chunk_token_count': 336.25},\n",
       " {'sentence_chunk': 'Many Indians, including the princes and rich people of India, contributed money and materials to the war funds of the United Kingdom, anticipating change of dominion status and home rule in return. The World War I ended in 1919 and Britain won with the help of Indian soldiers. India was denied its promised reward. Many Indian soldiers died in foreign lands. In India, flu spread like an epidemic killing many people. The tax rates increased in India and prices also increased. As a result, the Indians became restless. Gandhiji returned to India from South Africa in 1915. Under the leadership of Gandhiji, Indians began to use a different method of gate freedom over the next few years. In December 1929, the Indian National Congress Party agreed to start a movement for complete independence from British rule.',\n",
       "  'chunk_char_count': 814,\n",
       "  'chunk_word_count': 136,\n",
       "  'chunk_token_count': 203.5},\n",
       " {'sentence_chunk': \"Under Gandhiji's leadership, many movements like Satyagraha Dandimarch took place. Many Indians did not believe in such peaceful protests, claiming that the British would not give independence to Indians so easily. They believed an armed struggle was necessary to oust the British from India. Many revolutionaries and leaders emerged from time to time. Bhagat Singh, Kudirambosu, Vinoy Badal Vinesh, Master Dashurja Sen, Netaji Subhash Chandra Gopal were a few of them. During the Second World War, the rulers of the British Raj declared India to be a party to the war without discussing the matter with Indians and their leaders. This created a lot of dissatisfaction among Indians and two big movements for India's independence took shape. The first was the Indian National Army of Subhash Chandra Bose. The second was the Quit India Movement of Mahatma Gandhi. Both of these leaders and the movements under their leadership shook the British Empire.\",\n",
       "  'chunk_char_count': 952,\n",
       "  'chunk_word_count': 152,\n",
       "  'chunk_token_count': 238.0},\n",
       " {'sentence_chunk': \"As a result of many movements in small and large scale of several years, sacrifice of the heroes of Mother India finally, finally, on midnight of 15 15 August 1947, Britain handed India its formal political independence. India finally owned its most coveted freedom, but at the price of losing a part of it. Viceroy Lord Mountbatten's divide and rule policy broke our country into two pieces and gave birth to two nations, the Union of India and the Islamic Pakistan. On the day of 75th Independence of India, we all Indians desire for a highly developed, transparent, corruption-free country. We also promise to contribute to India's social, economical, spiritual, technological development to build this nation into a superpower. Happy Independence Day to you all. Jai Hind!\",\n",
       "  'chunk_char_count': 776,\n",
       "  'chunk_word_count': 127,\n",
       "  'chunk_token_count': 194.0}]"
      ]
     },
     "execution_count": 59,
     "metadata": {},
     "output_type": "execute_result"
    }
   ],
   "source": [
    "min_token_length = 30\n",
    "chunks_over_min_token_len = df[df[\"chunk_token_count\"] > min_token_length].to_dict(orient=\"records\")\n",
    "chunks_over_min_token_len"
   ]
  },
  {
   "cell_type": "code",
   "execution_count": 55,
   "id": "cd3531d4-df70-4702-b31d-71d15a2cc1cf",
   "metadata": {},
   "outputs": [
    {
     "name": "stderr",
     "output_type": "stream",
     "text": [
      "C:\\ProgramData\\anaconda3\\envs\\gpu\\lib\\site-packages\\huggingface_hub\\file_download.py:1132: FutureWarning: `resume_download` is deprecated and will be removed in version 1.0.0. Downloads always resume when possible. If you want to force a new download, use `force_download=True`.\n",
      "  warnings.warn(\n"
     ]
    }
   ],
   "source": [
    "from sentence_transformers import SentenceTransformer\n",
    "embedding_model = SentenceTransformer(model_name_or_path=\"all-mpnet-base-v2\", \n",
    "                                      device=\"cpu\")"
   ]
  },
  {
   "cell_type": "code",
   "execution_count": 60,
   "id": "d976b8c8-d924-40d3-b9b9-a7eb4cdd8c1a",
   "metadata": {},
   "outputs": [
    {
     "data": {
      "application/vnd.jupyter.widget-view+json": {
       "model_id": "e80ad3b2ed0346569935dfd9a86a6e05",
       "version_major": 2,
       "version_minor": 0
      },
      "text/plain": [
       "  0%|          | 0/4 [00:00<?, ?it/s]"
      ]
     },
     "metadata": {},
     "output_type": "display_data"
    },
    {
     "name": "stdout",
     "output_type": "stream",
     "text": [
      "CPU times: total: 2.69 s\n",
      "Wall time: 3.62 s\n"
     ]
    }
   ],
   "source": [
    "%%time\n",
    "embedding_model.to(\"cuda\")\n",
    "for i in tqdm(chunks_over_min_token_len):\n",
    "    i[\"embedding\"] = embedding_model.encode(i[\"sentence_chunk\"])"
   ]
  },
  {
   "cell_type": "code",
   "execution_count": 61,
   "id": "d4f91cab-4c1d-49aa-a80d-dbe35a22df5d",
   "metadata": {},
   "outputs": [],
   "source": [
    "text_chunks_and_embeddings_df = pd.DataFrame(chunks_over_min_token_len)\n",
    "embeddings_df_save_path = \"text_chunks_and_embeddings_df.csv\"\n",
    "text_chunks_and_embeddings_df.to_csv(embeddings_df_save_path, index=False)"
   ]
  },
  {
   "cell_type": "code",
   "execution_count": 95,
   "id": "bbaa839f-429f-431b-a813-132d3089edeb",
   "metadata": {},
   "outputs": [
    {
     "data": {
      "text/plain": [
       "torch.Size([4, 768])"
      ]
     },
     "execution_count": 95,
     "metadata": {},
     "output_type": "execute_result"
    }
   ],
   "source": [
    "import random\n",
    "import torch\n",
    "import numpy as np \n",
    "import pandas as pd\n",
    "\n",
    "device = \"cuda\" if torch.cuda.is_available() else \"cpu\"\n",
    "\n",
    "text_chunks_and_embedding_df = pd.read_csv(\"text_chunks_and_embeddings_df.csv\")\n",
    "\n",
    "text_chunks_and_embedding_df[\"embedding\"] = text_chunks_and_embedding_df[\"embedding\"].apply(lambda x: np.fromstring(x.strip(\"[]\"), sep=\" \"))\n",
    "\n",
    "chunks = text_chunks_and_embedding_df.to_dict(orient=\"records\")\n",
    "embeddings = torch.tensor(np.array(text_chunks_and_embedding_df[\"embedding\"].tolist()), dtype=torch.float32).to(device)\n",
    "embeddings.shape"
   ]
  },
  {
   "cell_type": "code",
   "execution_count": 63,
   "id": "f862cd93-2128-4feb-bbd3-fa9f80b96cad",
   "metadata": {},
   "outputs": [
    {
     "name": "stderr",
     "output_type": "stream",
     "text": [
      "C:\\ProgramData\\anaconda3\\envs\\gpu\\lib\\site-packages\\huggingface_hub\\file_download.py:1132: FutureWarning: `resume_download` is deprecated and will be removed in version 1.0.0. Downloads always resume when possible. If you want to force a new download, use `force_download=True`.\n",
      "  warnings.warn(\n"
     ]
    }
   ],
   "source": [
    "from sentence_transformers import util, SentenceTransformer\n",
    "\n",
    "embedding_model = SentenceTransformer(model_name_or_path=\"all-mpnet-base-v2\", \n",
    "                                      device=device)"
   ]
  },
  {
   "cell_type": "markdown",
   "id": "c3f10e15",
   "metadata": {},
   "source": [
    "Retrieving answer form the embeddings"
   ]
  },
  {
   "cell_type": "code",
   "execution_count": 65,
   "id": "29a896e5-94b8-42e9-8a99-fd99ce52332a",
   "metadata": {},
   "outputs": [
    {
     "name": "stdout",
     "output_type": "stream",
     "text": [
      "Query: when india got freedom\n",
      "Time take to get scores on 4 embeddings: 0.00084 seconds.\n"
     ]
    },
    {
     "data": {
      "text/plain": [
       "torch.return_types.topk(\n",
       "values=tensor([0.6329], device='cuda:0'),\n",
       "indices=tensor([1], device='cuda:0'))"
      ]
     },
     "execution_count": 65,
     "metadata": {},
     "output_type": "execute_result"
    }
   ],
   "source": [
    "query = \"when india got freedom\"\n",
    "print(f\"Query: {query}\")\n",
    "query_embedding = embedding_model.encode(query, convert_to_tensor=True)\n",
    "from time import perf_counter as timer\n",
    "start_time = timer()\n",
    "dot_scores = util.dot_score(a=query_embedding, b=embeddings)[0]\n",
    "end_time = timer()\n",
    "print(f\"Time take to get scores on {len(embeddings)} embeddings: {end_time-start_time:.5f} seconds.\")\n",
    "top_results_dot_product = torch.topk(dot_scores,k=1)\n",
    "top_results_dot_product"
   ]
  },
  {
   "cell_type": "code",
   "execution_count": 96,
   "id": "9fb2760f-6922-408f-98c2-5e6c7f83603c",
   "metadata": {},
   "outputs": [],
   "source": [
    "def retriever_score(query,embeddings):\n",
    "    query_embedding = embedding_model.encode(query, convert_to_tensor=True)\n",
    "    dot_scores = util.dot_score(a=query_embedding, b=embeddings)[0]\n",
    "    scores, indices = torch.topk(input=dot_scores, k=4)\n",
    "    return scores,indices\n",
    "def retriever(query,embedding):\n",
    "    scores,indeices=retriever_score(query,embedding)\n",
    "    for score, index in zip(scores, indeices):\n",
    "        \n",
    "        print(chunks[index][\"sentence_chunk\"])"
   ]
  },
  {
   "cell_type": "code",
   "execution_count": 85,
   "id": "4336b8a6-82f9-405c-972f-93d92060cd37",
   "metadata": {},
   "outputs": [
    {
     "name": "stdout",
     "output_type": "stream",
     "text": [
      "Many Indians, including the princes and rich people of India, contributed money and materials to the war funds of the United Kingdom, anticipating change of dominion status and home rule in return. The World War I ended in 1919 and Britain won with the help of Indian soldiers. India was denied its promised reward. Many Indian soldiers died in foreign lands. In India, flu spread like an epidemic killing many people. The tax rates increased in India and prices also increased. As a result, the Indians became restless. Gandhiji returned to India from South Africa in 1915. Under the leadership of Gandhiji, Indians began to use a different method of gate freedom over the next few years. In December 1929, the Indian National Congress Party agreed to start a movement for complete independence from British rule.\n",
      "As a result of many movements in small and large scale of several years, sacrifice of the heroes of Mother India finally, finally, on midnight of 15 15 August 1947, Britain handed India its formal political independence. India finally owned its most coveted freedom, but at the price of losing a part of it. Viceroy Lord Mountbatten's divide and rule policy broke our country into two pieces and gave birth to two nations, the Union of India and the Islamic Pakistan. On the day of 75th Independence of India, we all Indians desire for a highly developed, transparent, corruption-free country. We also promise to contribute to India's social, economical, spiritual, technological development to build this nation into a superpower. Happy Independence Day to you all. Jai Hind!\n",
      "Under Gandhiji's leadership, many movements like Satyagraha Dandimarch took place. Many Indians did not believe in such peaceful protests, claiming that the British would not give independence to Indians so easily. They believed an armed struggle was necessary to oust the British from India. Many revolutionaries and leaders emerged from time to time. Bhagat Singh, Kudirambosu, Vinoy Badal Vinesh, Master Dashurja Sen, Netaji Subhash Chandra Gopal were a few of them. During the Second World War, the rulers of the British Raj declared India to be a party to the war without discussing the matter with Indians and their leaders. This created a lot of dissatisfaction among Indians and two big movements for India's independence took shape. The first was the Indian National Army of Subhash Chandra Bose. The second was the Quit India Movement of Mahatma Gandhi. Both of these leaders and the movements under their leadership shook the British Empire.\n",
      "The British came to India for trading. They made their offices and forts in various parts of India But eventually the British East India Company became the major force in India the company's troops led by Robert Clive defeated Siraj Udulla the ruler of Bengal in 1757 in the battle of policy and that was the beginning of British rule known as British Raj in India. Under the British rule, the Indians were deprived of basic needs, socially and economically and legally discriminated against, misbehaved, mistreated and tortured. India's first war of independence was a revolt of Indian soldiers and rulers against British rule. The rebellion by Indian troops of the British Raj started in May 1857 and continued until December 1858. During this period of India's first war of independence, many social and religious leaders worked to inspire the Indian society. They included men like Swami Vivekananda, Ramkrishnadeva, Sri Aurobindo, Subramanian Bharti, Bumkin Chandra Chatterjee, Sir Syed Ahmed Khan, Robin Ronath Tagore and Dadabhai Navroji. They spread the message of self-confidence, removing social evils and making India free from the domination of foreign power. During the First World War, Indians gave support to the United Kingdom. About 1.3 million Indian soldiers went to many parts of Europe, Africa, and the Middle East to fight.\n"
     ]
    }
   ],
   "source": [
    "retriever(query,embeddings)"
   ]
  },
  {
   "cell_type": "markdown",
   "id": "8c9973a5",
   "metadata": {},
   "source": [
    "Loading gemma-2b-it LLM model "
   ]
  },
  {
   "cell_type": "code",
   "execution_count": 88,
   "id": "55d61eef-94ae-4820-9495-11c6a0954341",
   "metadata": {},
   "outputs": [],
   "source": [
    "import torch\n",
    "from transformers import AutoTokenizer, AutoModelForCausalLM\n",
    "from transformers import BitsAndBytesConfig\n",
    "quantization_config = BitsAndBytesConfig(load_in_4bit=True,\n",
    "                                         bnb_4bit_compute_dtype=torch.float16)"
   ]
  },
  {
   "cell_type": "code",
   "execution_count": 91,
   "id": "1eb07dd0-6bbc-4c3a-89ea-ed77c2c1b4d4",
   "metadata": {},
   "outputs": [],
   "source": [
    "model_id = \"google/gemma-2b-it\"\n",
    "attn_implementation = \"sdpa\""
   ]
  },
  {
   "cell_type": "code",
   "execution_count": 93,
   "id": "27ba9ffb-7b04-420b-84c1-6cf8cf74585c",
   "metadata": {},
   "outputs": [
    {
     "name": "stderr",
     "output_type": "stream",
     "text": [
      "`config.hidden_act` is ignored, you should use `config.hidden_activation` instead.\n",
      "Gemma's activation function will be set to `gelu_pytorch_tanh`. Please, use\n",
      "`config.hidden_activation` if you want to override this behaviour.\n",
      "See https://github.com/huggingface/transformers/pull/29402 for more details.\n"
     ]
    },
    {
     "data": {
      "application/vnd.jupyter.widget-view+json": {
       "model_id": "676b5107f1e74e5fb77422759a5a9838",
       "version_major": 2,
       "version_minor": 0
      },
      "text/plain": [
       "Loading checkpoint shards:   0%|          | 0/2 [00:00<?, ?it/s]"
      ]
     },
     "metadata": {},
     "output_type": "display_data"
    }
   ],
   "source": [
    "tokenizer = AutoTokenizer.from_pretrained(pretrained_model_name_or_path=model_id)\n",
    "llm_model = AutoModelForCausalLM.from_pretrained(pretrained_model_name_or_path=model_id, \n",
    "                                                 torch_dtype=torch.float16, # datatype to use, we want float16\n",
    "                                                 quantization_config=quantization_config ,\n",
    "                                                 low_cpu_mem_usage=False, # use full memory \n",
    "                                                 attn_implementation=attn_implementation)"
   ]
  },
  {
   "cell_type": "code",
   "execution_count": 94,
   "id": "a9b546cb-4780-421d-9e13-47e39a2cc893",
   "metadata": {},
   "outputs": [
    {
     "data": {
      "text/plain": [
       "GemmaForCausalLM(\n",
       "  (model): GemmaModel(\n",
       "    (embed_tokens): Embedding(256000, 2048, padding_idx=0)\n",
       "    (layers): ModuleList(\n",
       "      (0-17): 18 x GemmaDecoderLayer(\n",
       "        (self_attn): GemmaSdpaAttention(\n",
       "          (q_proj): Linear4bit(in_features=2048, out_features=2048, bias=False)\n",
       "          (k_proj): Linear4bit(in_features=2048, out_features=256, bias=False)\n",
       "          (v_proj): Linear4bit(in_features=2048, out_features=256, bias=False)\n",
       "          (o_proj): Linear4bit(in_features=2048, out_features=2048, bias=False)\n",
       "          (rotary_emb): GemmaRotaryEmbedding()\n",
       "        )\n",
       "        (mlp): GemmaMLP(\n",
       "          (gate_proj): Linear4bit(in_features=2048, out_features=16384, bias=False)\n",
       "          (up_proj): Linear4bit(in_features=2048, out_features=16384, bias=False)\n",
       "          (down_proj): Linear4bit(in_features=16384, out_features=2048, bias=False)\n",
       "          (act_fn): PytorchGELUTanh()\n",
       "        )\n",
       "        (input_layernorm): GemmaRMSNorm()\n",
       "        (post_attention_layernorm): GemmaRMSNorm()\n",
       "      )\n",
       "    )\n",
       "    (norm): GemmaRMSNorm()\n",
       "  )\n",
       "  (lm_head): Linear(in_features=2048, out_features=256000, bias=False)\n",
       ")"
      ]
     },
     "execution_count": 94,
     "metadata": {},
     "output_type": "execute_result"
    }
   ],
   "source": [
    "llm_model\n"
   ]
  },
  {
   "cell_type": "code",
   "execution_count": 101,
   "id": "995ba9d9-4714-4550-86fe-15b02a577ff6",
   "metadata": {},
   "outputs": [],
   "source": [
    "def prompt_formatter_rag(query,context_items):\n",
    "    context = \"- \" + \"\\n- \".join([item[\"sentence_chunk\"] for item in context_items])\n",
    "    base_prompt = \"\"\"Based on the following context items, please answer the query.\n",
    "Give yourself room to think by extracting relevant passages from the context before answering the query.\n",
    "Don't return the thinking, only return the answer.\n",
    "Make sure your answers are as explanatory as possible.\n",
    "\\nNow use the following context items to answer the user query:\n",
    "{context}\n",
    "\\nRelevant passages: <extract relevant passages from the context here>\n",
    "User query: {query}\n",
    "Answer:\"\"\"\n",
    "    base_prompt = base_prompt.format(context=context, query=query)\n",
    "    dialogue_template = [\n",
    "        {\"role\": \"user\",\n",
    "        \"content\": base_prompt}\n",
    "    ]\n",
    "    prompt = tokenizer.apply_chat_template(conversation=dialogue_template,\n",
    "                                          tokenize=False,\n",
    "                                          add_generation_prompt=True)\n",
    "    return prompt"
   ]
  },
  {
   "cell_type": "code",
   "execution_count": 102,
   "id": "3cb976d4-aea1-48e6-968a-c19446183528",
   "metadata": {},
   "outputs": [],
   "source": [
    "def rag_answers(query, \n",
    "        temperature=0.7,\n",
    "        max_new_tokens=512,\n",
    "        format_answer_text=True, \n",
    "        return_answer_only=True):\n",
    "    scores, indices = retriever_score(query,embeddings)\n",
    "    context_items = [chunks[i] for i in indices]\n",
    "    for i, item in enumerate(context_items):\n",
    "        item[\"score\"] = scores[i].cpu()\n",
    "    prompt = prompt_formatter_rag(query,context_items)\n",
    "    input_ids = tokenizer(prompt, return_tensors=\"pt\").to(\"cuda\")   \n",
    "    outputs = llm_model.generate(**input_ids,\n",
    "                                 temperature=temperature,\n",
    "                                 do_sample=True,\n",
    "                                 max_new_tokens=max_new_tokens)\n",
    "    output_text = tokenizer.decode(outputs[0])\n",
    "    if format_answer_text:\n",
    "        output_text = output_text.replace(prompt, \"\").replace(\"<bos>\", \"\").replace(\"<eos>\", \"\").replace(\"Sure, here is the answer to the user query:\\n\\n\", \"\")\n",
    "    if return_answer_only:\n",
    "        return output_text\n",
    "    \n",
    "    return output_text, context_items"
   ]
  },
  {
   "cell_type": "markdown",
   "id": "dda4a359",
   "metadata": {},
   "source": [
    "Pssing the retrived data to model and getting the answers"
   ]
  },
  {
   "cell_type": "code",
   "execution_count": 103,
   "id": "c9326950-6767-4917-bc58-19ba2e2a4c2b",
   "metadata": {},
   "outputs": [
    {
     "name": "stdout",
     "output_type": "stream",
     "text": [
      "Query: wher india got freedom\n",
      "[INFO] Time taken to get scores on 4 embeddings: 0.00018 seconds.\n",
      "Answer:\n",
      "\n",
      "According to the context, India was denied its promised reward for its contribution to the war funds of the United Kingdom.\n"
     ]
    }
   ],
   "source": [
    "query = 'wher india got freedom'\n",
    "print(f\"Query: {query}\")\n",
    "\n",
    "# Answer query with context and return context \n",
    "answer, context_items = rag_answers(query=query, \n",
    "                            temperature=0.7,\n",
    "                            max_new_tokens=512,\n",
    "                            return_answer_only=False)\n",
    "\n",
    "print(f\"Answer:\\n\")\n",
    "print(answer)"
   ]
  },
  {
   "cell_type": "code",
   "execution_count": 104,
   "id": "32939f0d-2121-428a-be47-b2c6378ded9f",
   "metadata": {},
   "outputs": [],
   "source": [
    "def prompt_formatter_summ(Text):\n",
    "    base_prompt = \"\"\"Based on the following text, please give the summary of the text.\n",
    "Don't return the thinking, only return the answer.\n",
    "Make sure your answers are as explanatory as possible.\n",
    "\\nNow use the following text to summarize the text:\n",
    "{text}\n",
    "Answer:\"\"\"\n",
    "    base_prompt = base_prompt.format(text=text)\n",
    "    dialogue_template = [\n",
    "        {\"role\": \"user\",\n",
    "        \"content\": base_prompt}\n",
    "    ]\n",
    "    prompt = tokenizer.apply_chat_template(conversation=dialogue_template,\n",
    "                                          tokenize=False,\n",
    "                                          add_generation_prompt=True)\n",
    "    return prompt"
   ]
  },
  {
   "cell_type": "code",
   "execution_count": 107,
   "id": "2501d501-6f14-4cce-8938-9744e974df98",
   "metadata": {},
   "outputs": [],
   "source": [
    "def summarizer(temperature=0.7,\n",
    "        max_new_tokens=512,\n",
    "        format_answer_text=True, \n",
    "        return_answer_only=True):\n",
    "    \n",
    "    prompt = prompt_formatter_summ(result['text'])\n",
    "    input_ids = tokenizer(prompt, return_tensors=\"pt\").to(\"cuda\")   \n",
    "    outputs = llm_model.generate(**input_ids,\n",
    "                                 temperature=temperature,\n",
    "                                 do_sample=True,\n",
    "                                 max_new_tokens=max_new_tokens)\n",
    "    output_text = tokenizer.decode(outputs[0])\n",
    "    if format_answer_text:\n",
    "        output_text = output_text.replace(prompt, \"\").replace(\"<bos>\", \"\").replace(\"<eos>\", \"\").replace(\"Sure, here is the answer to the user query:\\n\\n\", \"\")\n",
    "    if return_answer_only:\n",
    "        return output_text\n",
    "    \n",
    "    return output_text"
   ]
  },
  {
   "cell_type": "markdown",
   "id": "f138deca",
   "metadata": {},
   "source": [
    "Summary of the file "
   ]
  },
  {
   "cell_type": "code",
   "execution_count": 108,
   "id": "de6c2653-af0d-462d-a568-dcc5ca191176",
   "metadata": {},
   "outputs": [
    {
     "name": "stdout",
     "output_type": "stream",
     "text": [
      "Sure, here's the summary of the text:\n",
      "\n",
      "The British came to India for trading and established offices and forts throughout the country. During British rule, the Indians were deprived of basic needs, socially and economically and legally discriminated against, and subjected to mistreatment and torture. However, the Indian National Congress party led by Gandhiji emerged and fought for India's independence. India finally gained its independence on August 15, 1947, after a long struggle against British rule.\n"
     ]
    }
   ],
   "source": [
    "answer=summarizer()\n",
    "print(answer)"
   ]
  },
  {
   "cell_type": "code",
   "execution_count": null,
   "id": "e984d055-d52d-492f-ab8c-91e4b2079c91",
   "metadata": {},
   "outputs": [],
   "source": []
  },
  {
   "cell_type": "code",
   "execution_count": null,
   "id": "77cf8729-25d3-4f28-9886-43ca2560ac58",
   "metadata": {},
   "outputs": [],
   "source": []
  }
 ],
 "metadata": {
  "kernelspec": {
   "display_name": "gpu",
   "language": "python",
   "name": "gpu"
  },
  "language_info": {
   "codemirror_mode": {
    "name": "ipython",
    "version": 3
   },
   "file_extension": ".py",
   "mimetype": "text/x-python",
   "name": "python",
   "nbconvert_exporter": "python",
   "pygments_lexer": "ipython3",
   "version": "3.10.14"
  }
 },
 "nbformat": 4,
 "nbformat_minor": 5
}
